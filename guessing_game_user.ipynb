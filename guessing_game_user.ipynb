{
 "cells": [
  {
   "cell_type": "code",
   "execution_count": 2,
   "metadata": {},
   "outputs": [],
   "source": [
    "import random"
   ]
  },
  {
   "cell_type": "code",
   "execution_count": 4,
   "metadata": {},
   "outputs": [
    {
     "name": "stdout",
     "output_type": "stream",
     "text": [
      "yay! The computer guessed your number, 2, correctly\n"
     ]
    }
   ],
   "source": [
    "def guess(x):\n",
    "    random_number = random.randint(1,x)\n",
    "    guess = 0\n",
    "    while guess != random_number:\n",
    "        guess = int(input(f'Guess a number between 1 and {x}: '))\n",
    "        if guess < random_number:\n",
    "            print(\"Sorry, guess again. Too Low\")\n",
    "        elif guess > random_number:\n",
    "            print('Sorry, guess again. Too high')\n",
    "    print(f\"yaay, Congrats, you have guessed the number {random_number}\")\n",
    "\n",
    "def computer_guess(x):\n",
    "    low = 1\n",
    "    high = x\n",
    "    feedback = ''\n",
    "    while feedback != 'c':\n",
    "        if low != high:\n",
    "            guess = random.randint(low,high)\n",
    "        else:\n",
    "            guess = low  # When low equals high, it means we have narrowed down to the correct number\n",
    "        guess = random.randint(low,high)\n",
    "        feedback = input(f\"is {guess} too high (H), too low (L) or correct(C)?? \").lower()\n",
    "        if feedback == 'h':\n",
    "            high = guess - 1\n",
    "        elif feedback == '':\n",
    "            low = guess + 1 \n",
    "    print(f'yay! The computer guessed your number, {guess}, correctly')\n",
    "\n",
    "computer_guess(10)"
   ]
  },
  {
   "cell_type": "code",
   "execution_count": null,
   "metadata": {},
   "outputs": [],
   "source": []
  }
 ],
 "metadata": {
  "kernelspec": {
   "display_name": "learn-env",
   "language": "python",
   "name": "python3"
  },
  "language_info": {
   "codemirror_mode": {
    "name": "ipython",
    "version": 3
   },
   "file_extension": ".py",
   "mimetype": "text/x-python",
   "name": "python",
   "nbconvert_exporter": "python",
   "pygments_lexer": "ipython3",
   "version": "3.8.5"
  }
 },
 "nbformat": 4,
 "nbformat_minor": 2
}
