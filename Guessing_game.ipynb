{
 "cells": [
  {
   "cell_type": "markdown",
   "metadata": {},
   "source": [
    "# Number Guessing Game"
   ]
  },
  {
   "cell_type": "code",
   "execution_count": 2,
   "metadata": {},
   "outputs": [],
   "source": [
    "import random"
   ]
  },
  {
   "cell_type": "code",
   "execution_count": 3,
   "metadata": {},
   "outputs": [
    {
     "name": "stdout",
     "output_type": "stream",
     "text": [
      "Sorry, guess again. Too high\n",
      "Sorry, guess again. Too high\n",
      "yaay, Congrats, you have guessed the number 3\n"
     ]
    }
   ],
   "source": [
    "def guess(x):\n",
    "    random_number = random.randint(1,x) # Generate a random number between 1 and x \n",
    "    guess = 0         # Initialize the guess variable to 0\n",
    "    while guess != random_number:  # Prompt the user to guess a number between 1 and x\n",
    "        guess = int(input(f'Guess a number between 1 and {x}: '))\n",
    "        if guess < random_number:       # Check if the guess is lower than the random number\n",
    "            print(\"Sorry, guess again. Too Low\")\n",
    "        elif guess > random_number:         # Check if the guess is higher than the random number\n",
    "            print('Sorry, guess again. Too high')\n",
    "    print(f\"yaay, Congrats, you have guessed the number {random_number}\") # Print a congratulatory message when the user guesses correctly\n",
    "\n",
    "guess(10)  # Call the guess function with 10 as the argument"
   ]
  },
  {
   "cell_type": "code",
   "execution_count": null,
   "metadata": {},
   "outputs": [],
   "source": []
  }
 ],
 "metadata": {
  "kernelspec": {
   "display_name": "learn-env",
   "language": "python",
   "name": "python3"
  },
  "language_info": {
   "codemirror_mode": {
    "name": "ipython",
    "version": 3
   },
   "file_extension": ".py",
   "mimetype": "text/x-python",
   "name": "python",
   "nbconvert_exporter": "python",
   "pygments_lexer": "ipython3",
   "version": "3.8.5"
  }
 },
 "nbformat": 4,
 "nbformat_minor": 2
}
