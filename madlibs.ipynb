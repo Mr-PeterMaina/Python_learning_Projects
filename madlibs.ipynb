{
 "cells": [
  {
   "cell_type": "markdown",
   "metadata": {},
   "source": [
    "# MADLIBS PROJECTS"
   ]
  },
  {
   "cell_type": "code",
   "execution_count": 2,
   "metadata": {},
   "outputs": [
    {
     "name": "stdout",
     "output_type": "stream",
     "text": [
      "Let's create a fun madlib together \n",
      "\n",
      " HERE iS YOUR MADLIB:\n",
      "\n",
      "Computer programming is so Precise! It makes me so excited all the time because \n",
      " I love to Game. Stay hydrated and Code like you are a Deadpool!\n"
     ]
    }
   ],
   "source": [
    "# Print a welcome message to engage the user\n",
    "print(\"Let's create a fun madlib together \")\n",
    "\n",
    "# Prompt the user to enter an adjective\n",
    "adj = input(\"Adjective: \")\n",
    "\n",
    "# Prompt the user to enter a verb\n",
    "verb1 = input(\"verb: \")\n",
    "\n",
    "# Prompt the user to enter another verb\n",
    "verb2 = input(\"verb: \")\n",
    "\n",
    "# Prompt the user to enter the name of a famous person\n",
    "famous_person = input(\"Famous person: \")\n",
    "\n",
    "# Use f-string to concatenate user inputs into a madlib\n",
    "madlib = f'Computer programming is so {adj}! It makes me so excited all the time because \\n I love to {verb1}. Stay hydrated and {verb2} like you are a {famous_person}!'\n",
    "\n",
    "# Print the final madlib with a header for clarity\n",
    "print(\"\\n HERE iS YOUR MADLIB:\\n\")\n",
    "print(madlib)"
   ]
  },
  {
   "cell_type": "code",
   "execution_count": null,
   "metadata": {},
   "outputs": [],
   "source": []
  }
 ],
 "metadata": {
  "kernelspec": {
   "display_name": "learn-env",
   "language": "python",
   "name": "python3"
  },
  "language_info": {
   "codemirror_mode": {
    "name": "ipython",
    "version": 3
   },
   "file_extension": ".py",
   "mimetype": "text/x-python",
   "name": "python",
   "nbconvert_exporter": "python",
   "pygments_lexer": "ipython3",
   "version": "3.8.5"
  }
 },
 "nbformat": 4,
 "nbformat_minor": 2
}
